{
 "cells": [
  {
   "cell_type": "markdown",
   "id": "b1427f43",
   "metadata": {},
   "source": [
    "Steps:\n",
    "\n",
    "1) Extract the dataset from the brw file. Voltage conversion and reshape into a 4096xnframes matrix"
   ]
  },
  {
   "cell_type": "markdown",
   "id": "d9d18640",
   "metadata": {},
   "source": [
    "2) To identify if a recording presents some form of event that produces strong voltage variations in several contiguous channels, we use the following metric:\n",
    "\n",
    "V = # different voltage values presents in one channel\n",
    "\n",
    "From there, you make a Linear fitting (1-degree) of the data and obtain the confidence intervals form there.\n",
    "\n",
    "The values above the confidence intervals are those channels that contain any number of voltage variations outside the non-tissue/noise behavior of the rest of the recording\n",
    "\n",
    "At this point you just need the path to the folder contain the segments of the recording (each one with an 4096xnframes array, voltage converted, ~2 seconds total), and a Julia dictionary that contains the descriptive variables from the brw original file. "
   ]
  },
  {
   "cell_type": "code",
   "execution_count": null,
   "id": "542df33e",
   "metadata": {},
   "outputs": [],
   "source": [
    "PATHFunciones = \"/home/LBitn/Desktop\";\n",
    "push!( LOAD_PATH, PATHFunciones ); \n",
    "using JuliaTools"
   ]
  },
  {
   "cell_type": "code",
   "execution_count": null,
   "id": "f0b54146",
   "metadata": {},
   "outputs": [],
   "source": [
    "# Package for manipulating jld files\n",
    "using JLD\n",
    "using StatsBase\n",
    "using Measures\n",
    "using BinningAnalysis\n",
    "using Plots\n",
    "\n",
    "FILEVars = \"/home/LBitn/Data/Stimulo/Info/variablesBRW.jld\";\n",
    "PATHNoSat = \"/home/LBitn/Data/Stimulo/Segments\";\n",
    "\n",
    "Variables = load( FILEVars )[ \"Variables\" ];\n",
    "nChs = length( Variables[ \"Layout\" ] ); # total number of channels (...4096)\n",
    "\n",
    "# function that reads files in a given path, gives an array of strings\n",
    "FILESNoSat = searchdir( PATHNoSat, \"jld\" ); "
   ]
  },
  {
   "cell_type": "code",
   "execution_count": null,
   "id": "17dec45b",
   "metadata": {},
   "outputs": [],
   "source": [
    "# Obtaining the variable V\n",
    "i = 1\n",
    "\n",
    "FILENoSat = FILESNoSat[ i ];\n",
    "\n",
    "# The files are stored as Float16, but for some operations Float64 is needed\n",
    "data = Float64.( load( FILENoSat )[ \"data\" ] ); \n",
    "\n",
    "V = zeros( Int, nChs ); # preallocation\n",
    "\n",
    "for j = 1:nChs; V[ j ] = length( unique( data[ j, : ] ) ); end"
   ]
  },
  {
   "cell_type": "markdown",
   "id": "9bc69d0b",
   "metadata": {},
   "source": [
    "Now V is a 4096 elements-vector of integers, each one with the number of voltage values in one channel"
   ]
  },
  {
   "cell_type": "code",
   "execution_count": null,
   "id": "5423ce73",
   "metadata": {},
   "outputs": [],
   "source": [
    "p = 0.9; # quantile value for the confidence interval calculation. 0.9 seems to fit just fine\n",
    "\n",
    "xmean, Δx, C1, C2 = MeanΔxCI( V, p ); # mean, standard error, CI superior and CI inferior"
   ]
  },
  {
   "cell_type": "markdown",
   "id": "4831a9f7",
   "metadata": {},
   "source": [
    "Now, the channels with a value V above the CI are candidates for activity of interest. \n",
    "We took those channels and call a function that generate groups with the coordinates. Those channels in the 8-neighborhood are grouped together. The loose ones (one-member islands) are discarded in this particular process"
   ]
  },
  {
   "cell_type": "code",
   "execution_count": null,
   "id": "db080ffa",
   "metadata": {},
   "outputs": [],
   "source": [
    "AboveCI = findall( V .>= C1 ); \n",
    "\n",
    "grupos, loose = Get_Groups( AboveCI );"
   ]
  },
  {
   "cell_type": "markdown",
   "id": "76d82c8a",
   "metadata": {},
   "source": [
    "Here is where it becomes a little \"It works, but I can't exactly point out why\".\n",
    "\n",
    "We can define 2 values that are going to show if a specific segment has a behavior that can be considered evidence of...synchronized channel superthreshold activity of some sort.\n",
    "\n",
    "One is a \"sparsity\" mesure and the other is a form of \"density\" of the groups and how many of those are above the mean + 2 standard deviations.\n",
    "\n",
    "If the second one is different than 0 (meaning there are groups with a \"density\" far away of a left centered normal distribution), that indicates that this segment has an abnormal behavior. In case of a control recording whit the green chips, this \"density\" vector is 0 in all the segments. \n",
    "\n",
    "If this is not the case, then we use the \"sparsity\" coefficient that helps with the identification of which of those segments of the entire pool have this behavior, and should be further addressed. "
   ]
  },
  {
   "cell_type": "markdown",
   "id": "c2dad980",
   "metadata": {},
   "source": [
    "So we applied these metrics for all the segments of one recording (~80 for a 3 minute recording)"
   ]
  },
  {
   "cell_type": "code",
   "execution_count": null,
   "id": "bee266e3",
   "metadata": {},
   "outputs": [],
   "source": [
    "# All the mentioned metrics for all the segments of one recording. The results are storage into 2 Arrays\n",
    "# for further analysis. This step takes a few minutes on an i9, 32GB RAM machine\n",
    "\n",
    "nChs = length( Variables[ \"Layout\" ] ); # total number of channels (...4096)\n",
    "p = 0.90;\n",
    "\n",
    "sparsity_matrix = zeros( length( FILESNoSat ), 3 ); # Array n segments rows x 3 columns\n",
    "variabilidades = zeros( nChs, length( FILESNoSat ) ); # Array 4096 rows x n segments columns\n",
    "\n",
    "for i = 1:length( FILESNoSat );\n",
    "\n",
    "    FILENoSat = FILESNoSat[ i ];\n",
    "    \n",
    "    data = Float64.( load( FILENoSat )[ \"data\" ] ); \n",
    "\n",
    "    V = zeros( Int, nChs ); # preallocation\n",
    "\n",
    "    for j = 1:nChs; V[ j ] = length( unique( data[ j, : ] ) ); end\n",
    "\n",
    "    xmean, Δx, C1, C2 = MeanΔxCI( V, p );\n",
    "    \n",
    "    AboveCI = findall( V .>= C1 ); \n",
    "    \n",
    "    grupos, loose = Get_Groups( AboveCI );\n",
    "    \n",
    "    # Density, N channel above CI, Sparsity\n",
    "    sparsity_matrix[ i, : ] = [ Density( grupos ), length( AboveCI ), Sparsity( length( grupos ), nChs ) ]\n",
    "    \n",
    "    # V vector of each segment into an array\n",
    "    variabilidades[ :, i ] = V;\n",
    "    \n",
    "end"
   ]
  },
  {
   "cell_type": "code",
   "execution_count": null,
   "id": "5cb7caa0",
   "metadata": {},
   "outputs": [],
   "source": [
    "# save( \"/home/LBitn/Data/Stimulo/Info/sparsity_matrix.jld\", \"data\", sparsity_matrix );\n",
    "# save( \"/home/LBitn/Data/Stimulo/Info/variabilidades.jld\", \"data\", variabilidades );\n",
    "sparsity_matrix = load( \"/home/LBitn/Data/Stimulo/Info/sparsity_matrix.jld\" )[\"data\"];\n",
    "variabilidades = load( \"/home/LBitn/Data/Stimulo/Info/variabilidades.jld\" )[\"data\"];"
   ]
  },
  {
   "cell_type": "code",
   "execution_count": null,
   "id": "e7b68ec2",
   "metadata": {},
   "outputs": [],
   "source": [
    "# Testing the Density values\n",
    "\n",
    "if isempty( findall( sparsity_matrix[ :, 1 ] .== 0 ) )\n",
    "    println(\"The experiment has no discharge-like events\")\n",
    "    permission = 0;\n",
    "else\n",
    "    println(\"Further analysis is needed\")\n",
    "    permission = 1;\n",
    "end\n",
    "\n",
    "if permission == 1\n",
    "\n",
    "    S = sparsity_matrix[ :, 3 ];\n",
    "\n",
    "    xmean, xerror = jackknife( identity, S );\n",
    "\n",
    "    Potential_Discharge = findall( S .>= ( xmean + 2*std( S ) ) ); # Posible segments with discharge events \n",
    "    \n",
    "end"
   ]
  },
  {
   "cell_type": "code",
   "execution_count": null,
   "id": "f26cbc99",
   "metadata": {},
   "outputs": [],
   "source": [
    "# Ploting all the segments, quick check\n",
    "Titles = replace.( basename.( FILESNoSat ), \".jld\" => \"\" );\n",
    "\n",
    "for i = 1:length( Titles )\n",
    "\n",
    "    if !isempty( findall( i .== Potential_Discharge ) ) \n",
    "        \n",
    "        T = string( Titles[ i ], \" : positive for discharge\" );\n",
    "        \n",
    "    else\n",
    "        \n",
    "        T = string( Titles[ i ], \" : negative for discharge\" );\n",
    "        \n",
    "    end\n",
    "\n",
    "    W = variabilidades[ :, i ];\n",
    "    Z = reverse( reshape( W, Variables[ \"NRows\" ], Variables[ \"NCols\" ] )', dims = 1 ); \n",
    "    \n",
    "    FigureTest = Zplot( Z, :bwr );\n",
    "    FigureTest = plot!( title = T, titlefont = ( 10, \"arial\" ) )\n",
    "    \n",
    "    figname = string( \"/home/LBitn/Data/Stimulo/Figures/Detection/\", Titles[ i ], \".png\" );\n",
    "    savefig( FigureTest, figname )\n",
    "    \n",
    "end"
   ]
  },
  {
   "cell_type": "markdown",
   "id": "1251db18",
   "metadata": {},
   "source": [
    "In this specific case, we can conclude from the figures that the segments 5, 33 and 60 certainly have discharge events. The density test offers segments 33 and 60, the sparsity test results in segments 5, 33, 60 and 72. \n",
    "We always took the sparsity test moving forward."
   ]
  },
  {
   "cell_type": "markdown",
   "id": "b69b513e",
   "metadata": {},
   "source": [
    "3) Now, with the segments identified, we have to extract the exact frames where the discharge events had been recorded"
   ]
  },
  {
   "cell_type": "code",
   "execution_count": null,
   "id": "4564e5dd",
   "metadata": {},
   "outputs": [],
   "source": [
    "# Noise-adaptive Optimal Thresholding\n",
    "@inline donoho( x ) =  ( median( abs.( x ) ) / 0.6745 );\n",
    "σ = 5; # Ideally 4/√3, but we are looking for supra supra threshold events, so a larger σ is needed.\n",
    "channels = 1:nChs;"
   ]
  },
  {
   "cell_type": "code",
   "execution_count": null,
   "id": "a8121dd4",
   "metadata": {},
   "outputs": [],
   "source": [
    "I = 1\n",
    "\n",
    "FILENoSat = FILESNoSat[ Potential_Discharge[ I ] ];\n",
    "\n",
    "data = Float64.( load( FILENoSat )[ \"data\" ] ); \n",
    "\n",
    "allframes = [ ];\n",
    "\n",
    "for j = 1:size( data, 1 )\n",
    "    \n",
    "    # Only positive side of the thresholding, to avoid detecting possible spikes\n",
    "    thr = σ*donoho( data[ j, : ] ); \n",
    "    \n",
    "    upperframes = findall( data[ j, : ] .> thr );\n",
    "    \n",
    "    push!( allframes, upperframes )\n",
    "    \n",
    "end"
   ]
  },
  {
   "cell_type": "markdown",
   "id": "ebc237f8",
   "metadata": {},
   "source": [
    "The new vector is the number of frames suprathreshold. This vector has a clear lineal behavior whit a low number of outliers. With this, just the values above the mean is sufficient for detecting the protruding channels"
   ]
  },
  {
   "cell_type": "code",
   "execution_count": null,
   "id": "a6486a41",
   "metadata": {},
   "outputs": [],
   "source": [
    "FirstDetection = channels[ length.( allframes ) .>= mean( length.( allframes ) ) ];\n",
    "\n",
    "allsatframes = vcat( allframes[ FirstDetection ]...); Temporal = countmap( allsatframes );\n",
    "\n",
    "canal_virtual = zeros( Int, size( data, 2 ) );\n",
    "\n",
    "k = Int.( keys( Temporal ) ); v = Int.( values( Temporal ) );\n",
    "\n",
    "for i = 1:length( k )\n",
    "    \n",
    "    canal_virtual[ k[ i ] ] = v[ i ];\n",
    "    \n",
    "end"
   ]
  },
  {
   "cell_type": "markdown",
   "id": "34971b0a",
   "metadata": {},
   "source": [
    "From this virtual channel, we again took a threshold to detect the incredibly high repeated frames in order to avoid false positives"
   ]
  },
  {
   "cell_type": "code",
   "execution_count": null,
   "id": "d4c29e61",
   "metadata": {},
   "outputs": [],
   "source": [
    "thr = 2*σ*donoho( canal_virtual ); Finals = findall( canal_virtual .>= thr );"
   ]
  },
  {
   "cell_type": "markdown",
   "id": "331d97c7",
   "metadata": {},
   "source": [
    "In this specific case, we know that the 72 segment does not have discharge events. We can avoid following through with the next steps here, checking the number of \"Finals\" frames detected.\n",
    "\n",
    "Segment 05 = 208 possible frames detected for repair\n",
    "Segment 33 = 159\n",
    "Segment 60 = 211\n",
    "Segment 72 = 0"
   ]
  },
  {
   "cell_type": "markdown",
   "id": "76212824",
   "metadata": {},
   "source": [
    "And now, having the possible frames, we check that the crossing the threshold is in both directions, condition that is needed to discard possible action potentials"
   ]
  },
  {
   "cell_type": "code",
   "execution_count": null,
   "id": "a5010b68",
   "metadata": {},
   "outputs": [],
   "source": [
    "upstairs = [ ]; downstairs = [ ];\n",
    "for i = 1:nChs\n",
    "\n",
    "    A = σ*donoho( data[ i, : ] ); B = -σ*donoho( data[ i, : ] );\n",
    "\n",
    "    a = findall( data[ i, Finals ] .> A ); b = findall( data[ i, Finals ] .< B );\n",
    "\n",
    "    if !isempty( a ) || !isempty( b )\n",
    "        \n",
    "        if !isempty( a )\n",
    "            \n",
    "            push!( upstairs, a )\n",
    "            \n",
    "        else\n",
    "            \n",
    "            push!( upstairs, 0 )\n",
    "            \n",
    "        end\n",
    "        if !isempty( b )\n",
    "            \n",
    "            push!( downstairs, b )\n",
    "            \n",
    "        else\n",
    "            \n",
    "            push!( downstairs, 0 )\n",
    "            \n",
    "        end\n",
    "        \n",
    "    elseif isempty( a ) && isempty( b )\n",
    "        \n",
    "        push!( downstairs, 0 )\n",
    "        \n",
    "        push!( upstairs, 0 )\n",
    "        \n",
    "    end\n",
    "end"
   ]
  },
  {
   "cell_type": "markdown",
   "id": "235aaa89",
   "metadata": {},
   "source": [
    "All the following is just for checking the detected contaminated channels based on the potential contaminated frames. There is no need to plot this, just for proper visualization"
   ]
  },
  {
   "cell_type": "code",
   "execution_count": null,
   "id": "6c9a1327",
   "metadata": {},
   "outputs": [],
   "source": [
    "Z = zeros( Int, nChs );\n",
    "Z[ findall( downstairs .!= 0 ) ] .= 1\n",
    "Z[ findall( upstairs .!= 0 ) ] .= 2\n",
    "Z[ intersect( findall( downstairs .!= 0 ), findall( upstairs .!= 0 ) ) ] .= 3;\n",
    "Z = reverse( reshape( Z, Variables[ \"NRows\" ], Variables[ \"NCols\" ] )', dims = 1 ); \n",
    "\n",
    "labels = [\"None\",\"Down\", \"Up\", \"Both\"];\n",
    "\n",
    "n = 4;\n",
    "yt = range( 0, 1, n + 1 )[ 1:n ] .+ 0.5/n;\n",
    "\n",
    "l = @layout [ a{ 0.80w } [ b{ 0.1h }; c ] ];\n",
    "colors = cgrad( :matter, n, categorical = true);\n",
    "\n",
    "p1 = heatmap( Z, color = colors,  cbar = false, aspect_ratio = 1 );\n",
    "\n",
    "p2 = plot( [ NaN ], lims = ( 0, 1 ), framestyle = :none, legend = false);\n",
    "annotate!( 0.5, 0.1, text( \"Detection\", 10, \"Arial\" ) );\n",
    "\n",
    "xx = range( 0, 1, 100 ); zz = zero( xx )' .+ xx;\n",
    "\n",
    "p3 = heatmap( xx, xx, zz, ticks = false, ratio = 10, legend = false, fc = colors, lims = ( 0, 1 ),\n",
    "             framestyle = :box, right_margin = 20mm );\n",
    "[ annotate!( 2, yi, text( ti, 7, \"Arial\" ) ) for ( yi, ti ) in zip( yt, labels ) ]\n",
    "plot( p1, p2, p3, layout = l, margins = 0mm, axis = ( [ ], false ) )"
   ]
  },
  {
   "cell_type": "code",
   "execution_count": null,
   "id": "1a39c7f1",
   "metadata": {},
   "outputs": [],
   "source": [
    "# channels for repairing\n",
    "channels4patchup = intersect( findall( downstairs .!= 0 ), findall( upstairs .!= 0 ) );"
   ]
  },
  {
   "cell_type": "markdown",
   "id": "6f58d5aa",
   "metadata": {},
   "source": [
    "4) Now, having a list of contaminated channels and frames, we just have to replace those values whit a value that represents the global activity of the no-saturated electrodes"
   ]
  },
  {
   "cell_type": "code",
   "execution_count": null,
   "id": "d0528e00",
   "metadata": {},
   "outputs": [],
   "source": [
    "# First, we discard the saturated values due the amplifiers\n",
    "\n",
    "data_reparado = copy( data );\n",
    "data_reparado[ data .<= ( Variables[ \"MinVolt\" ][ ] + 1 ) ] .= 0;\n",
    "data_reparado[ data .>= ( Variables[ \"MaxVolt\" ][ ] - 1 ) ] .= 0;"
   ]
  },
  {
   "cell_type": "markdown",
   "id": "9cb7d40e",
   "metadata": {},
   "source": [
    "The events occur in 4 rapid successions of discharges. We find the frames that comprise each individual discharge"
   ]
  },
  {
   "cell_type": "code",
   "execution_count": null,
   "id": "8f2de9c7",
   "metadata": {},
   "outputs": [],
   "source": [
    "nsteps = 4;\n",
    "\n",
    "SamplingRate = Variables[ \"SamplingRate\" ][ 1 ];\n",
    "\n",
    "temp = Finals[ 2:end ] .- Finals[ 1:( end - 1 )];\n",
    "\n",
    "steps = temp[ findall( Finals[ 2:end ] .- Finals[ 1:( end - 1 ) ] .> ms2frames( 5, SamplingRate ) ) ];\n",
    "\n",
    "firstlast = Finals[ 1:( end - 1 ) ][ findall( Finals[ 2:end ] .- Finals[ 1:( end - 1 ) ] .> ms2frames( 5, SamplingRate ) ) ];\n",
    "\n",
    "segmentos = Array{ Any }( nothing, 4 );\n",
    "segmentos[ 1 ] = Finals[ firstlast[ 1 ] .>= Finals .>= minimum( Finals ) ]; # first segment\n",
    "segmentos[ 2 ] = Finals[ firstlast[ 2 ] .>= Finals .> firstlast[ 1 ] ];\n",
    "segmentos[ 3 ] = Finals[ firstlast[ 3 ] .>= Finals .> firstlast[ 2 ] ];\n",
    "segmentos[ 4 ] = Finals[ maximum( Finals ) .>= Finals .> firstlast[ 3 ] ];\n",
    "\n",
    "S1 = ( \n",
    "    minimum( \n",
    "        segmentos[ 1 ] ) - ms2frames( \n",
    "        1, SamplingRate ) ):( maximum( segmentos[ 1 ] ) + ms2frames( 1, SamplingRate ) );\n",
    "\n",
    "S2 = ( \n",
    "    minimum( \n",
    "        segmentos[ 2 ] ) - ms2frames( \n",
    "        1, SamplingRate ) ):( maximum( segmentos[ 2 ] ) + ms2frames( 1, SamplingRate ) );\n",
    "\n",
    "S3 = ( \n",
    "    minimum( \n",
    "        segmentos[ 3 ] ) - ms2frames( \n",
    "        1, SamplingRate ) ):( maximum( segmentos[ 3 ] ) + ms2frames( 1, SamplingRate ) );\n",
    "\n",
    "S4 = ( \n",
    "    minimum( \n",
    "        segmentos[ 4 ] ) - ms2frames( \n",
    "        1, SamplingRate ) ):( maximum( segmentos[ 4 ] ) + ms2frames( 1, SamplingRate ) );\n",
    "\n",
    "TotalFrames = vcat( S1, S2, S3, S4 );"
   ]
  },
  {
   "cell_type": "markdown",
   "id": "3faec7d2",
   "metadata": {},
   "source": [
    "Now we have the frames, the channels, time to fix the recording"
   ]
  },
  {
   "cell_type": "code",
   "execution_count": null,
   "id": "ca983f67",
   "metadata": {},
   "outputs": [],
   "source": [
    "aux = union( 1:minimum( TotalFrames ), maximum( TotalFrames ):size( data, 2 ) );\n",
    "\n",
    "window = 10; # msec\n",
    "window = ms2frames( window, SamplingRate );\n",
    "\n",
    "for i = 1:length( channels4patchup )\n",
    "    for j = 1:length( TotalFrames )\n",
    "        data_reparado[ channels4patchup[ i ], TotalFrames[ j ] ] = \n",
    "            mode( data_reparado[ channels4patchup[ i ], sample( aux, window ) ] );\n",
    "    end\n",
    "end"
   ]
  },
  {
   "cell_type": "markdown",
   "id": "864d039e",
   "metadata": {},
   "source": [
    "Here you can use wherever value you consider proper. The simple mean does not seem to do the trick due the high value of the saturations even when there are just a few channels to fix. So, I again suggest the mode of the channel inside a random x-ms window outside the saturated region."
   ]
  },
  {
   "cell_type": "markdown",
   "id": "14c07796",
   "metadata": {},
   "source": [
    "For visualization:"
   ]
  },
  {
   "cell_type": "code",
   "execution_count": null,
   "id": "c0d8e808",
   "metadata": {},
   "outputs": [],
   "source": [
    "ncanal = sample( channels4patchup );\n",
    "\n",
    "P1 = plot( data[ ncanal, : ], lab = string(\"channel: \", ncanal) );\n",
    "\n",
    "P2 = plot( data[ ncanal, : ], lab = :none );\n",
    "\n",
    "P2 = vline!( [ TotalFrames ], lab = \"eventos\" );\n",
    "\n",
    "P3 = plot( data_reparado[ ncanal, : ], lab = \"reparado\" );\n",
    "\n",
    "Figura2 = plot( P1, P2, P3, layout = ( 3, 1 ), wsize = ( 900, 600 ) )"
   ]
  },
  {
   "cell_type": "code",
   "execution_count": null,
   "id": "d10b415e",
   "metadata": {},
   "outputs": [],
   "source": [
    "i = Potential_Discharge[ I ];\n",
    "W = variabilidades[ :, i ];\n",
    "\n",
    "Z = reverse( reshape( W, Variables[ \"NRows\" ], Variables[ \"NCols\" ] )', dims = 1 ); \n",
    "T = string(Titles[ i ], \" original\");\n",
    "\n",
    "plot()\n",
    "FO = Zplot2( Z, :bwr );\n",
    "FO = plot!( title = T, titlefont = ( 10, \"arial\" ) );\n",
    "\n",
    "V = zeros( Int, nChs ); # preallocation\n",
    "for j = 1:nChs; V[ j ] = length( unique( data_reparado[ j, : ] ) ); end\n",
    "W = V;\n",
    "Z = reverse( reshape( W, Variables[ \"NRows\" ], Variables[ \"NCols\" ] )', dims = 1 ); \n",
    "T = string(Titles[ i ], \" repaired\")\n",
    "plot()\n",
    "FR = Zplot2( Z, :bwr );\n",
    "FR = plot!( title = T, titlefont = ( 10, \"arial\" ) );"
   ]
  },
  {
   "cell_type": "code",
   "execution_count": null,
   "id": "7c8f26e9",
   "metadata": {},
   "outputs": [],
   "source": [
    "plot( FO, FR, layout = ( 1, 2 ), wsize = ( 900, 400 ))"
   ]
  },
  {
   "cell_type": "markdown",
   "id": "68b78fc4",
   "metadata": {},
   "source": [
    "5) Now we have the patch up segment, save and repeat for all the others Potential_Discharge segments detected"
   ]
  },
  {
   "cell_type": "code",
   "execution_count": null,
   "id": "3cce28aa",
   "metadata": {},
   "outputs": [],
   "source": [
    "save( replace(FILENoSat, \"BIN\" => \"Rep_BIN\"), \"data\", data_reparado );"
   ]
  }
 ],
 "metadata": {
  "kernelspec": {
   "display_name": "Julia 1.7.2",
   "language": "julia",
   "name": "julia-1.7"
  },
  "language_info": {
   "file_extension": ".jl",
   "mimetype": "application/julia",
   "name": "julia",
   "version": "1.7.2"
  }
 },
 "nbformat": 4,
 "nbformat_minor": 5
}
