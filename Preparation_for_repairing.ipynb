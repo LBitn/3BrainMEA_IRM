{
 "cells": [
  {
   "cell_type": "markdown",
   "id": "7f13aa63",
   "metadata": {},
   "source": [
    "# Remove spontaneous discharge type saturation events from white Stimulo chips, versions prior to 2022"
   ]
  },
  {
   "cell_type": "markdown",
   "id": "64469277",
   "metadata": {},
   "source": [
    "## Step A: Cut chunks or segments from a BRW file"
   ]
  },
  {
   "cell_type": "code",
   "execution_count": null,
   "id": "37e8bb57",
   "metadata": {},
   "outputs": [],
   "source": [
    "# -------------------------------------------------------------------------------------------------------- #\n",
    "\n",
    "PATHFunciones = \"/home/LBitn/Desktop\";\n",
    "HD = \"/run/media/LBitn/7bb4008d-08df-440b-9635-60c2187d8dfb\"\n",
    "PATHBRWs = joinpath( HD, \"Data/Hipocampo/Estimulacion/18-05-2021/BRWs\");\n",
    "\n",
    "push!( LOAD_PATH, PATHFunciones ); \n",
    "using JuliaTools\n",
    "\n",
    "FILESBRW = searchdir( PATHBRWs, \"brw\" );\n",
    "\n",
    "@time for i = 1:length( FILESBRW );\n",
    "\n",
    "    FILEBRW = FILESBRW[ i ];\n",
    "    Variables = BRWDescription( FILEBRW ); PATHMain = pwd( );\n",
    "    \n",
    "    PATHInfo = joinpath( PATHMain , \"Info\" );\n",
    "    PATHSegmentos = joinpath( PATHMain, \"Segmentos\" ); mkpath( PATHSegmentos );\n",
    "\n",
    "    Get_chunks( Variables, PATHSegmentos );\n",
    "\n",
    "    println( \"File: \", FILEBRW, \" Finished \" );\n",
    "    \n",
    "end\n",
    "\n",
    "# -------------------------------------------------------------------------------------------------------- #"
   ]
  },
  {
   "cell_type": "markdown",
   "id": "e2886a7b",
   "metadata": {},
   "source": [
    "## Step B: Convertion to Voltage WITHOUT removing saturations"
   ]
  },
  {
   "cell_type": "code",
   "execution_count": null,
   "id": "c56c6155",
   "metadata": {},
   "outputs": [],
   "source": [
    "# -------------------------------------------------------------------------------------------------------- #\n",
    "\n",
    "PATHFunciones = \"/home/LBitn/Desktop\";\n",
    "HD = \"/run/media/LBitn/7bb4008d-08df-440b-9635-60c2187d8dfb\";\n",
    "PATHMain = joinpath( HD, \"Data/Hipocampo/Estimulacion/18-05-2021/control_30min\" ); cd( PATHMain )\n",
    "\n",
    "push!( LOAD_PATH, PATHFunciones );\n",
    "\n",
    "using JuliaTools\n",
    "using JLD\n",
    "\n",
    "PATHNoSat = joinpath( PATHMain, \"NoSats\" ); mkpath( PATHNoSat );\n",
    "PATHInfo = joinpath( PATHMain , \"Info\" );\n",
    "PATHSegmentos = joinpath( PATHMain, \"Segmentos\" );\n",
    "\n",
    "FILEVars = joinpath( PATHInfo, \"variablesBRW.jld\" );\n",
    "FILESegmentos = searchdir( PATHSegmentos, \"jld\" );\n",
    "\n",
    "Variables = load( FILEVars )[ \"Variables\" ];\n",
    "nChs = length( Variables[ \"Layout\" ] );\n",
    "channels = 1:nChs;\n",
    "\n",
    "FILESegmentos = searchdir( PATHSegmentos, \"jld\" );\n",
    "\n",
    "@time for i = 1:length( FILESegmentos )\n",
    "    \n",
    "    FILESegmento = FILESegmentos[ i ];\n",
    "    FILENoSat = replace( replace( FILESegmento, \"Segmentos\" => \"NoSats\" ), \"BIN\" => \"NOSAT\" );\n",
    "    \n",
    "    BIN = load( FILESegmento )[ \"data\" ];\n",
    "    BIN = Digital2Analogue( Variables, BIN );\n",
    "    \n",
    "    save( FILENoSat, \"data\", Float16.( BIN ) );\n",
    "    \n",
    "end\n",
    "\n",
    "# -------------------------------------------------------------------------------------------------------- #"
   ]
  },
  {
   "cell_type": "code",
   "execution_count": null,
   "id": "c5f1ba11",
   "metadata": {},
   "outputs": [],
   "source": []
  }
 ],
 "metadata": {
  "kernelspec": {
   "display_name": "Julia 1.7.2",
   "language": "julia",
   "name": "julia-1.7"
  },
  "language_info": {
   "file_extension": ".jl",
   "mimetype": "application/julia",
   "name": "julia",
   "version": "1.7.2"
  }
 },
 "nbformat": 4,
 "nbformat_minor": 5
}
